{
 "cells": [
  {
   "cell_type": "markdown",
   "id": "9c5ac0ae",
   "metadata": {},
   "source": [
    "### 1.1. Теоретический материал – Типы данных"
   ]
  },
  {
   "cell_type": "markdown",
   "id": "0318ddbc",
   "metadata": {},
   "source": [
    "**Типы данных**"
   ]
  },
  {
   "cell_type": "markdown",
   "id": "92663232",
   "metadata": {},
   "source": [
    "Все типы данных в Python относятся к одной из 2-х категорий:         изменяемые (mutable) и неизменяемые (immutable).\n",
    "```  \n",
    "Неизменяемые объекты:\n",
    "    - числовые данные (int, float),\n",
    "    - bool,\n",
    "    - None,\n",
    "    - символьные строки (class 'str'),\n",
    "         кортежи (tuple).\n",
    "        \n",
    "Изменяемые объекты:\n",
    "    - списки (list),\n",
    "    - множества (set),\n",
    "    - словари (dict).\n",
    "```"
   ]
  },
  {
   "cell_type": "markdown",
   "id": "c58ad2b9",
   "metadata": {},
   "source": [
    "### 1.2. Пример"
   ]
  },
  {
   "cell_type": "markdown",
   "id": "c02fbd08",
   "metadata": {},
   "source": [
    "***Задача:*** \\\n",
    "Выведите на печать и определите тип переменной."
   ]
  },
  {
   "cell_type": "code",
   "execution_count": 2,
   "id": "17779e0a",
   "metadata": {},
   "outputs": [],
   "source": [
    "x = 3+5.2*7\n",
    "y = None\n",
    "z = 'a', 5, 12.345, (2, 'b')\n",
    "df = [['Антонова Антонина', 34, 'ж'], ['Борисов Борис', 26, 'м']]\n",
    "A = {1, 'title', 2, 'content'}"
   ]
  },
  {
   "cell_type": "markdown",
   "id": "eaf3a97e",
   "metadata": {},
   "source": [
    "***Решение:***"
   ]
  },
  {
   "cell_type": "code",
   "execution_count": 4,
   "id": "f7ff7438",
   "metadata": {},
   "outputs": [
    {
     "name": "stdout",
     "output_type": "stream",
     "text": [
      "39.4 | <class 'float'> \n",
      " None | <class 'NoneType'> \n",
      " ('a', 5, 12.345, (2, 'b')) | <class 'tuple'> \n",
      " [['Антонова Антонина', 34, 'ж'], ['Борисов Борис', 26, 'м']] | <class 'list'> \n",
      " {'title', 1, 2, 'content'} | <class 'set'> \n",
      "\n"
     ]
    }
   ],
   "source": [
    "print(x,'|',type(x),'\\n', y,'|',type(y),'\\n',\n",
    "      z,'|',type(z),'\\n', df,'|',type(df),'\\n', A,'|',type(A),'\\n')"
   ]
  },
  {
   "cell_type": "markdown",
   "id": "07340d2b",
   "metadata": {},
   "source": [
    "***Ответ:*** \\\n",
    "39.4 | <class 'float'> \\\n",
    "None | <class 'NoneType'> \\\n",
    "('a', 5, 12.345, (2, 'b')) | <class 'tuple'> \\\n",
    "[['Антонова Антонина', 34, 'ж'], ['Борисов Борис', 26, 'м']] | <class 'list'> \\\n",
    "{'title', 1, 2, 'content'} | <class 'set'> "
   ]
  },
  {
   "cell_type": "markdown",
   "id": "98da9790",
   "metadata": {},
   "source": [
    "### 1.3. Задание"
   ]
  },
  {
   "cell_type": "markdown",
   "id": "fd1430cf",
   "metadata": {},
   "source": [
    "***Задача:*** \\\n",
    "Выведите на печать и определите тип переменной."
   ]
  },
  {
   "cell_type": "code",
   "execution_count": 6,
   "id": "d0b0117e",
   "metadata": {},
   "outputs": [],
   "source": [
    "x = 5 >= 2\n",
    "A = {1, 3, 7, 8}\n",
    "B = {2, 4, 5, 10, 'apple'}\n",
    "C = A & B\n",
    "df = 'Антонова Антонина', 34, 'ж'\n",
    "z = 'type'\n",
    "D = [1, 'title', 2, 'content']"
   ]
  },
  {
   "cell_type": "markdown",
   "id": "88b92bda",
   "metadata": {},
   "source": [
    "***Решение:***"
   ]
  },
  {
   "cell_type": "code",
   "execution_count": 7,
   "id": "a11fd81d-3574-46f6-bf35-d88b8cc27c5a",
   "metadata": {
    "scrolled": true
   },
   "outputs": [
    {
     "name": "stdout",
     "output_type": "stream",
     "text": [
      "True | <class 'bool'> \n",
      " {8, 1, 3, 7} | <class 'set'> \n",
      " {2, 4, 5, 'apple', 10} | <class 'set'> \n",
      " set() | <class 'set'> \n",
      " ('Антонова Антонина', 34, 'ж') | <class 'tuple'> \n",
      " type | <class 'str'> \n",
      " [1, 'title', 2, 'content'] | <class 'list'> \n",
      "\n"
     ]
    }
   ],
   "source": [
    "print(x, '|', type(x), '\\n', A, '|', type(A), '\\n', B, '|', type(B), '\\n',\n",
    "      C, '|', type(C), '\\n', df, '|', type(df), '\\n', z, '|', type(z), '\\n',\n",
    "      D, '|', type(D), '\\n')"
   ]
  },
  {
   "cell_type": "markdown",
   "id": "4c2047d3",
   "metadata": {},
   "source": [
    "***Ответ:***"
   ]
  },
  {
   "cell_type": "markdown",
   "id": "618ccf6c",
   "metadata": {},
   "source": [
    "True | <class 'bool'> \\\n",
    " {8, 1, 3, 7} | <class 'set'> \\\n",
    " {2, 4, 5, 'apple', 10} | <class 'set'> \\\n",
    " set() | <class 'set'> \\\n",
    " ('Антонова Антонина', 34, 'ж') | <class 'tuple'> \\\n",
    " type | <class 'str'> \\\n",
    " [1, 'title', 2, 'content'] | <class 'list'>"
   ]
  },
  {
   "cell_type": "markdown",
   "id": "7406bfd9",
   "metadata": {},
   "source": [
    "### 2.1. Теоретический материал – Условный оператор"
   ]
  },
  {
   "cell_type": "markdown",
   "id": "060808af",
   "metadata": {},
   "source": [
    "**If – Условный оператор** \\\n",
    "В коде часто приходится проверять выполнимость или\n",
    "невыполнимость каких-то условий. Синтаксис: \n",
    "```\n",
    "if <условие1 (булевское выражение)> :\n",
    "    <код, который выполнится, если условие верно>\n",
    "elif <условие2 (булевское выражение)>:\n",
    "    <код, который выполнится, если условие1 было неверно, а\n",
    "условие2 верно>\n",
    "else:\n",
    "    <код, который выполнится, если условие1 и условие2 были\n",
    "неверны>\n",
    "```\n",
    "Обратите внимание, что код, который должен выполняться внутри\n",
    "каждого условия, записывается с отступом в 4 пробела от уровня if, elif и\n",
    "else: в питоне области видимости переменных обозначаются отступами. \\\n",
    "***То есть, отступы позволяют понять, где начинается код,\n",
    "который должен выполняться при выполнении условия в if, и где\n",
    "заканчивается***"
   ]
  },
  {
   "cell_type": "markdown",
   "id": "3f39fc59",
   "metadata": {},
   "source": [
    "### 2.2. Пример"
   ]
  },
  {
   "cell_type": "markdown",
   "id": "ee4a1210",
   "metadata": {},
   "source": [
    "***Задача:*** \\\n",
    "Вывести на экран является ли переменная х положительной,\n",
    "отрицательной или равна нулю"
   ]
  },
  {
   "cell_type": "code",
   "execution_count": null,
   "id": "11cb4104",
   "metadata": {},
   "outputs": [],
   "source": [
    "x = 125\n",
    "if x < 0:\n",
    "    print(\"x отрицательный\")\n",
    "elif x == 0:\n",
    "    print(\"x равен нулю\")\n",
    "else:\n",
    "    print(\"x положительный\")"
   ]
  },
  {
   "cell_type": "markdown",
   "id": "e5ade3e8",
   "metadata": {},
   "source": [
    "***Ответ:*** \\\n",
    "x положительный"
   ]
  },
  {
   "cell_type": "markdown",
   "id": "77072705",
   "metadata": {},
   "source": [
    "### 2.3. Задание"
   ]
  },
  {
   "cell_type": "markdown",
   "id": "4b4b65f6",
   "metadata": {},
   "source": [
    "***Задача:*** \\\n",
    "Напишите код. Задается х, напечатать какому из интервалов\n",
    "принадлежит: (-infinity, -5), \\\n",
    "[-5, 5] или от (5, +infinity)"
   ]
  },
  {
   "cell_type": "markdown",
   "id": "ab77fa29",
   "metadata": {},
   "source": [
    "***Решение:***"
   ]
  },
  {
   "cell_type": "code",
   "execution_count": null,
   "id": "e9bb2925",
   "metadata": {},
   "outputs": [],
   "source": [
    "x = int(input())\n",
    "if x < -5:\n",
    "    print(\"x принадлежит интервалу (-infinity, -5)\")\n",
    "elif 5 >= x >= -5:\n",
    "    print(\"x принадлежит интервалу [-5, 5]\")\n",
    "else:\n",
    "    print(\"x принадлежит интервалу (5, +infinity)\")"
   ]
  },
  {
   "cell_type": "markdown",
   "id": "8cd15cda",
   "metadata": {},
   "source": [
    "***Ответ:***"
   ]
  },
  {
   "cell_type": "markdown",
   "id": "8715a3f9",
   "metadata": {},
   "source": [
    "### 3.1. Теоретический материал – Циклы, массивы, срезы"
   ]
  },
  {
   "cell_type": "markdown",
   "id": "d4f9c46c",
   "metadata": {},
   "source": [
    "**Циклы - for и while** \\\n",
    "Цикл **while** проверяет истинность условия, и если условие истинно, то\n",
    "выполняет инструкции цикла. \\\n",
    "Синтаксис:\n",
    "```\n",
    "while условие:\n",
    "    инструкции\n",
    "```\n",
    "Инструкции, которые относятся к циклу while, располагаются на\n",
    "последующих строках и должны иметь отступ от начала ключевого слова\n",
    "while.\n",
    "Цикл **for** проходит по набору значений, помещает каждое значение в\n",
    "переменную с которой в цикле можно производить различные действия. \\\n",
    "Синтаксис:\n",
    "```\n",
    "for переменная in набор_значений:\n",
    "    инструкции\n",
    "```\n",
    "После ключевого слова **for** идет название переменной, в которую\n",
    "будут помещаться значения. После оператора **in** указывается набор значений\n",
    "и двоеточие. Инструкции, которые относятся к циклу, располагаются на\n",
    "последующих строках и должны иметь отступ. \\\n",
    "При создании цикла удобно пользоваться функцией **range(a, b)**,\n",
    "которая создает последовательность чисел от **a** до **b-1**."
   ]
  },
  {
   "cell_type": "markdown",
   "id": "46b1ad38",
   "metadata": {},
   "source": [
    "### 3.2.1. Пример"
   ]
  },
  {
   "cell_type": "markdown",
   "id": "c6f155ea",
   "metadata": {},
   "source": [
    "**Задача:** \\\n",
    "Вывести все числа от 1 до 10 с шагом 3."
   ]
  },
  {
   "cell_type": "markdown",
   "id": "ba3fc91a",
   "metadata": {},
   "source": [
    "***Решение:***"
   ]
  },
  {
   "cell_type": "code",
   "execution_count": 5,
   "id": "c755d1c3",
   "metadata": {},
   "outputs": [
    {
     "name": "stdout",
     "output_type": "stream",
     "text": [
      "1\n",
      "4\n",
      "7\n",
      "10\n"
     ]
    }
   ],
   "source": [
    "x = 1\n",
    "while x <= 10:\n",
    "    print(x)\n",
    "    x += 3"
   ]
  },
  {
   "cell_type": "markdown",
   "id": "b87198d5",
   "metadata": {},
   "source": [
    "***Ответ:***\n",
    "```\n",
    "1\n",
    "4\n",
    "7\n",
    "10\n",
    "```"
   ]
  },
  {
   "cell_type": "markdown",
   "id": "c5b72979",
   "metadata": {},
   "source": [
    "### 3.2.2. Пример"
   ]
  },
  {
   "cell_type": "markdown",
   "id": "771ea672",
   "metadata": {},
   "source": [
    "***Задача:*** \\\n",
    "Задан список. Напечатать все элементы списка."
   ]
  },
  {
   "cell_type": "markdown",
   "id": "296f2a7c",
   "metadata": {},
   "source": [
    "***Решение:***"
   ]
  },
  {
   "cell_type": "code",
   "execution_count": 6,
   "id": "0fc74401",
   "metadata": {},
   "outputs": [
    {
     "name": "stdout",
     "output_type": "stream",
     "text": [
      "KNN\n",
      "decision tree\n",
      "linear model\n"
     ]
    }
   ],
   "source": [
    "models = ['KNN', 'decision tree', 'linear model']\n",
    "for model in models:\n",
    "    print(model)"
   ]
  },
  {
   "cell_type": "markdown",
   "id": "e9c903f8",
   "metadata": {},
   "source": [
    "***Ответ:***\n",
    "```\n",
    "KNN\n",
    "decision tree\n",
    "linear model\n",
    "```"
   ]
  },
  {
   "cell_type": "markdown",
   "id": "dbd02e61",
   "metadata": {},
   "source": [
    "### 3.2.3. Пример\n",
    "***Задача:*** \\\n",
    "Создать список от 1 до 99 с шагом 7. \\\n",
    "\\\n",
    "***Решение:***"
   ]
  },
  {
   "cell_type": "code",
   "execution_count": 7,
   "id": "3ba3b5e8",
   "metadata": {},
   "outputs": [
    {
     "name": "stdout",
     "output_type": "stream",
     "text": [
      "[1, 8, 15, 22, 29, 36, 43, 50, 57, 64, 71, 78, 85, 92, 99]\n"
     ]
    }
   ],
   "source": [
    "list_int = range(1, 100, 7)\n",
    "print(list(list_int))"
   ]
  },
  {
   "cell_type": "markdown",
   "id": "bdce1eec",
   "metadata": {},
   "source": [
    "***Ответ:***\n",
    "```\n",
    "[1, 8, 15, 22, 29, 36, 43, 50, 57, 64, 71, 78, 85, 92, 99]\n",
    "```"
   ]
  },
  {
   "cell_type": "markdown",
   "id": "3006f356",
   "metadata": {},
   "source": [
    "### 3.2.4. Пример\n",
    "***Задача:***\n",
    "Вывести на экран числа от 1 до 105 с шагом 25, используя функцию\n",
    "range() \\\n",
    "\\\n",
    "***Решение:***"
   ]
  },
  {
   "cell_type": "code",
   "execution_count": 8,
   "id": "aff43020",
   "metadata": {},
   "outputs": [
    {
     "name": "stdout",
     "output_type": "stream",
     "text": [
      "5\n",
      "30\n",
      "55\n",
      "80\n",
      "105\n"
     ]
    }
   ],
   "source": [
    "for i in range(5, 106, 25):\n",
    "    print(i)"
   ]
  },
  {
   "cell_type": "markdown",
   "id": "2adbe67c",
   "metadata": {},
   "source": [
    "***Ответ:***\n",
    "```\n",
    "5\n",
    "30\n",
    "55\n",
    "80\n",
    "105\n",
    "```"
   ]
  },
  {
   "cell_type": "markdown",
   "id": "549dba7c",
   "metadata": {},
   "source": [
    "### 3.2.5. Пример\n",
    "***Задача:*** \\\n",
    "**Срез.** Необходимо получить каждый k-й элемент массива a, начиная с\n",
    "элемента с индексом i (включительно) и заканчивая элементом с\n",
    "индексом j (не включительно), c шагом 2. Или переставить все\n",
    "элементы в обратном порядке. \\\n",
    "\\\n",
    "***Решение:***"
   ]
  },
  {
   "cell_type": "code",
   "execution_count": 10,
   "id": "7bc18379",
   "metadata": {},
   "outputs": [
    {
     "name": "stdout",
     "output_type": "stream",
     "text": [
      "[2, 4, 6]\n",
      "[9, 8, 7, 6, 5, 4, 3, 2, 1]\n"
     ]
    }
   ],
   "source": [
    "a = [1, 2, 3, 4, 5, 6, 7, 8, 9]\n",
    "b = a[1:7:2]\n",
    "c = a[::-1]\n",
    "print(b)\n",
    "print(c)"
   ]
  },
  {
   "cell_type": "markdown",
   "id": "67b9fc33",
   "metadata": {},
   "source": [
    "***Ответ:***\n",
    "```\n",
    "[2, 4, 6]\n",
    "[9, 8, 7, 6, 5, 4, 3, 2, 1]\n",
    "```"
   ]
  },
  {
   "cell_type": "markdown",
   "id": "c1ff4e4a",
   "metadata": {},
   "source": [
    "### 3.3.1. Задание\n",
    "***Задача:*** \\\n",
    "Выведите числа из примера на while (3.2.1) в обратном порядке. \\\n",
    "\\\n",
    "***Решение:***"
   ]
  },
  {
   "cell_type": "code",
   "execution_count": 11,
   "id": "7f83f9a5",
   "metadata": {},
   "outputs": [
    {
     "name": "stdout",
     "output_type": "stream",
     "text": [
      "10\n",
      "7\n",
      "4\n",
      "1\n"
     ]
    }
   ],
   "source": [
    "x = 10\n",
    "while x >= 1:\n",
    "    print(x)\n",
    "    x -= 3"
   ]
  },
  {
   "cell_type": "markdown",
   "id": "e26b2a33",
   "metadata": {},
   "source": [
    "***Ответ:***\n",
    "```\n",
    "10\n",
    "7\n",
    "4\n",
    "1\n",
    "```"
   ]
  },
  {
   "cell_type": "markdown",
   "id": "418a1fce",
   "metadata": {},
   "source": [
    "### 3.3.2. Задание\n",
    "***Задача:*** \\\n",
    "При решении задач машинного обучения часто в качестве объектов\n",
    "исследования выступает человек. Создайте список значимых\n",
    "характеристик (признаков), идентифицирующих человека. Выведите\n",
    "список на экран. \\\n",
    "\\\n",
    "***Решение:***"
   ]
  },
  {
   "cell_type": "code",
   "execution_count": 12,
   "id": "8c6e6afe",
   "metadata": {},
   "outputs": [
    {
     "name": "stdout",
     "output_type": "stream",
     "text": [
      "Рост\n",
      "Вес\n",
      "Характер\n",
      "Возраст\n"
     ]
    }
   ],
   "source": [
    "x = ['Рост', 'Вес', 'Характер', 'Возраст']\n",
    "for i in x:\n",
    "    print(i)"
   ]
  },
  {
   "cell_type": "markdown",
   "id": "354c7514",
   "metadata": {},
   "source": [
    "***Ответ:***\n",
    "```\n",
    "Рост\n",
    "Вес\n",
    "Характер\n",
    "Возраст\n",
    "```"
   ]
  },
  {
   "cell_type": "markdown",
   "id": "a0a1f4e0",
   "metadata": {},
   "source": [
    "### 3.3.3. Задание\n",
    "***Задача:*** \\\n",
    "Создать список чисел от 2 до 15 с шагом 1. \\\n",
    "\\\n",
    "***Решение:***"
   ]
  },
  {
   "cell_type": "code",
   "execution_count": 13,
   "id": "1dc56fb3",
   "metadata": {},
   "outputs": [
    {
     "name": "stdout",
     "output_type": "stream",
     "text": [
      "[2, 3, 4, 5, 6, 7, 8, 9, 10, 11, 12, 13, 14, 15]\n"
     ]
    }
   ],
   "source": [
    "numbers = list(range(2, 16))\n",
    "print(numbers)"
   ]
  },
  {
   "cell_type": "markdown",
   "id": "ea836e41",
   "metadata": {},
   "source": [
    "***Ответ:***\n",
    "```\n",
    "[2, 3, 4, 5, 6, 7, 8, 9, 10, 11, 12, 13, 14, 15]\n",
    "```"
   ]
  },
  {
   "cell_type": "markdown",
   "id": "fb9eafa0",
   "metadata": {},
   "source": [
    "### 3.3.4. Задание\n",
    "***Задача:*** \\\n",
    "Выведите числа из примера на for c функцией range() (3.2.4) в\n",
    "обратном порядке. \\\n",
    "\\\n",
    "***Решение:***"
   ]
  },
  {
   "cell_type": "code",
   "execution_count": 14,
   "id": "2dd544e7",
   "metadata": {},
   "outputs": [
    {
     "name": "stdout",
     "output_type": "stream",
     "text": [
      "105\n",
      "80\n",
      "55\n",
      "30\n",
      "5\n"
     ]
    }
   ],
   "source": [
    "for i in list(range(105, 4, -25)):\n",
    "    print(i)"
   ]
  },
  {
   "cell_type": "markdown",
   "id": "97161a7c",
   "metadata": {},
   "source": [
    "***Ответ:***\n",
    "```\n",
    "105\n",
    "80\n",
    "55\n",
    "30\n",
    "5\n",
    "```"
   ]
  },
  {
   "cell_type": "markdown",
   "id": "b73edb35",
   "metadata": {},
   "source": [
    "### 3.3.5. Задание\n",
    "***Задача:*** \\\n",
    "Срез. Напишите код, который все элементы массива x с четными\n",
    "индексами переставит в обратном порядке. Т.е. если x = [0, 1, 2, 3, 4,\n",
    "5, 6, 7, 8, 9], то код должен сформировать [8, 1, 6, 3, 4, 5, 2, 7, 0, 9]. \\\n",
    "\\\n",
    "***Решение:***"
   ]
  },
  {
   "cell_type": "code",
   "execution_count": 15,
   "id": "e507de2b",
   "metadata": {},
   "outputs": [
    {
     "name": "stdout",
     "output_type": "stream",
     "text": [
      "[0, 1, 2, 3, 4, 5, 6, 7, 8, 9]\n",
      "[8, 1, 6, 3, 4, 5, 2, 7, 0, 9]\n"
     ]
    }
   ],
   "source": [
    "x = [0, 1, 2, 3, 4, 5, 6, 7, 8, 9]\n",
    "chet = x[::2]\n",
    "chet = chet[::-1]\n",
    "nechet = x[1::2]\n",
    "\n",
    "print(x)\n",
    "\n",
    "cc = 0\n",
    "cn= 0\n",
    "\n",
    "ind = 0\n",
    "while cc != len(chet):\n",
    "    x[ind] = chet[cc]\n",
    "    cc += 1\n",
    "    ind += 2\n",
    "\n",
    "ind = 1\n",
    "while cn != len(nechet):\n",
    "    x[ind] = nechet[cn]\n",
    "    cn += 1\n",
    "    ind += 2\n",
    "    \n",
    "print(x)"
   ]
  },
  {
   "cell_type": "markdown",
   "id": "62bad19e",
   "metadata": {},
   "source": [
    "***Ответ:***\n",
    "```\n",
    "[8, 1, 6, 3, 4, 5, 2, 7, 0, 9]\n",
    "```"
   ]
  },
  {
   "cell_type": "markdown",
   "id": "e4bc0fe4",
   "metadata": {},
   "source": [
    "### 4.1. Теоретический материал - Библиотеки\n",
    "Машинное обучение опирается на фундаментальные понятия и законы\n",
    "математики и информатики. Библиотека математических функций (math)\n",
    "применяется при решении большинства прикладных задач анализа данных.\n",
    "\n",
    "Также, и некоторые другие библиотеки Python содержат математические\n",
    "функции (например, NumPy). Важную роль играет библиотека matplotlib,\n",
    "которая позволяет производить визуализацию расчетов в удобной для\n",
    "восприятия человеком форме: графики, диаграммы, гистограммы. \\\n",
    "\n",
    "Подключение библиотек – синтаксис:\n",
    "```\n",
    "import math as m\n",
    "import numpy as np\n",
    "import matplotlib.pyplot as plt\n",
    "etc…\n",
    "```\n",
    "Библиотеки в python содержат не только функции, позволяющие решать\n",
    "различные задачи, но и некоторые популярные константы, например число\n",
    "Эйлера."
   ]
  },
  {
   "cell_type": "markdown",
   "id": "fc570d3f",
   "metadata": {},
   "source": [
    "### 4.2.1 Пример\n",
    "***Задача:*** \\\n",
    "Рассчитать синус от е радиан и вывести результат на экран \\\n",
    "\\\n",
    "***Решение:***"
   ]
  },
  {
   "cell_type": "code",
   "execution_count": 16,
   "id": "3e1851ba",
   "metadata": {},
   "outputs": [
    {
     "name": "stdout",
     "output_type": "stream",
     "text": [
      "0.41078129050290885\n"
     ]
    }
   ],
   "source": [
    "import math as m\n",
    "print (m.sin(m.e))"
   ]
  },
  {
   "cell_type": "markdown",
   "id": "c421bc7e",
   "metadata": {},
   "source": [
    "***Ответ:***\n",
    "```\n",
    "0.41078129050290885\n",
    "```"
   ]
  },
  {
   "cell_type": "markdown",
   "id": "2e9a616e",
   "metadata": {},
   "source": [
    "### 4.2.2 Пример\n",
    "***Задача:*** \\\n",
    "Для функции sin(𝑥𝑒cos(𝑥)) на интервале [0;10] с шагом 0,05 построить\n",
    "график функции, закрасить площадь под ним и вычислить значение\n",
    "этой площади.\n",
    "Для вычисления площади воспользуйте функции trapz(), вычисляющей\n",
    "интеграл по правилу трапеции. Для ее корректной работы необходимо\n",
    "подключить следующие библиотеки:\n",
    "```\n",
    "from scipy.integrate import simps\n",
    "from numpy import trapz \n",
    "```\n",
    "***Решение:***"
   ]
  },
  {
   "cell_type": "code",
   "execution_count": 17,
   "id": "06008615",
   "metadata": {},
   "outputs": [
    {
     "name": "stdout",
     "output_type": "stream",
     "text": [
      "73.50792907748662\n"
     ]
    },
    {
     "data": {
      "image/png": "[encoded data removed]",
      "text/plain": [
       "<Figure size 640x480 with 1 Axes>"
      ]
     },
     "metadata": {},
     "output_type": "display_data"
    }
   ],
   "source": [
    "import numpy as np\n",
    "import matplotlib.pyplot as plt\n",
    "from scipy.integrate import simps\n",
    "from numpy import trapz\n",
    "x = np.arange(0.0, 10, 0.1)\n",
    "y = np.abs(np.sin(x * np.exp(np.cos(x))))\n",
    "plt.grid()\n",
    "plt.plot(x, y, c = 'r')\n",
    "plt.fill_between(x, y)\n",
    "\n",
    "area = trapz(y)\n",
    "print(area)"
   ]
  },
  {
   "cell_type": "markdown",
   "id": "bc56d464",
   "metadata": {},
   "source": [
    "***Ответ:***\n",
    "```\n",
    "73.50792907748662\n",
    "```\n",
    "![](4_2_2.png)"
   ]
  },
  {
   "cell_type": "markdown",
   "id": "ad439b7b",
   "metadata": {},
   "source": [
    "### 4.2.3 Пример\n",
    "***Задача:*** \\\n",
    "Дано некоторое распределение оценок в группе за экзамен. Нарисовать\n",
    "круговую и точечную диаграммы распределения \\\n",
    "\\\n",
    "***Решение:***"
   ]
  },
  {
   "cell_type": "code",
   "execution_count": 3,
   "id": "dbff6e82",
   "metadata": {},
   "outputs": [
    {
     "data": {
      "image/png": "[encoded data removed]",
      "text/plain": [
       "<Figure size 1000x700 with 1 Axes>"
      ]
     },
     "metadata": {},
     "output_type": "display_data"
    },
    {
     "data": {
      "text/plain": [
       "<matplotlib.collections.PathCollection at 0x1e54f736f50>"
      ]
     },
     "execution_count": 3,
     "metadata": {},
     "output_type": "execute_result"
    },
    {
     "data": {
      "image/png": "[encoded data removed]",
      "text/plain": [
       "<Figure size 640x480 with 1 Axes>"
      ]
     },
     "metadata": {},
     "output_type": "display_data"
    }
   ],
   "source": [
    "from matplotlib import pyplot as plt\n",
    "import numpy as np\n",
    "\n",
    "marks = ['Неуд', 'Удовл', 'Хор', 'Отл']\n",
    "\n",
    "data = [3, 7, 8, 4]\n",
    "fig = plt.figure(figsize = (10, 7))\n",
    "plt.pie(data, labels = marks)\n",
    "plt.show()\n",
    "plt.grid()\n",
    "plt.scatter(marks, data)"
   ]
  },
  {
   "cell_type": "markdown",
   "id": "73ec523e",
   "metadata": {},
   "source": [
    "***Ответ:***\n",
    "![](4_2_3(1).png)\n",
    "![](4_2_3(2).png)"
   ]
  },
  {
   "cell_type": "markdown",
   "id": "9bf552d2",
   "metadata": {},
   "source": [
    "### 4.3.1. Задание\n",
    "***Задача:*** \\\n",
    "Задайте массив случайных значений из интервала(0; 1).\n",
    "Рассчитайте средние и медианные значения для массива, сравните\n",
    "результаты, какие выводы можно сделать о значениях?\n",
    "Постройте точечную диаграмму рассения полученного ряда. \\\n",
    "\\\n",
    "***Решение:***"
   ]
  },
  {
   "cell_type": "code",
   "execution_count": 15,
   "id": "92cd174b",
   "metadata": {},
   "outputs": [
    {
     "name": "stdout",
     "output_type": "stream",
     "text": [
      "Среднее значение - 0.501018058159779 \n",
      "Медианное значение - 0.49039540695258443\n"
     ]
    },
    {
     "data": {
      "image/png": "[encoded data removed]",
      "text/plain": [
       "<Figure size 640x480 with 1 Axes>"
      ]
     },
     "metadata": {},
     "output_type": "display_data"
    }
   ],
   "source": [
    "import numpy as np\n",
    "import matplotlib.pyplot as plt\n",
    "\n",
    "rand = np.random.random(50)\n",
    "y = np.arange(len(rand))\n",
    "\n",
    "average = np.average(rand)\n",
    "median = np.median(rand)\n",
    "\n",
    "print(f'Среднее значение - {average} \\nМедианное значение - {median}')\n",
    "\n",
    "plt.scatter(y, rand)\n",
    "\n",
    "plt.show()\n"
   ]
  },
  {
   "cell_type": "markdown",
   "id": "e9276734",
   "metadata": {},
   "source": [
    "***Ответ:***\n",
    "```\n",
    "Среднее значение - 0.4334662599745676 \n",
    "Медианное значение - 0.41963872966535165\n",
    "```\n",
    "![](4_3_1.png)\n",
    "Вывод: медианное и среднее значения различаются"
   ]
  },
  {
   "cell_type": "markdown",
   "id": "9e0196b8",
   "metadata": {},
   "source": [
    "### 4.3.2. Задание\n",
    "***Задача:*** \\\n",
    "Дана функция ![](ur.png) Создать массив из 10 значений\n",
    "функции (𝑥, например, изменяется от 1 до 10). Выделить срез первой\n",
    "половины массива и построить графики для основного массива –\n",
    "линейный и для среза – точечный \\\n",
    "***Решение:***"
   ]
  },
  {
   "cell_type": "code",
   "execution_count": 35,
   "id": "1f73ba27",
   "metadata": {},
   "outputs": [
    {
     "data": {
      "image/png": "[encoded data removed]",
      "text/plain": [
       "<Figure size 640x480 with 1 Axes>"
      ]
     },
     "metadata": {},
     "output_type": "display_data"
    },
    {
     "data": {
      "text/plain": [
       "<matplotlib.collections.PathCollection at 0x1e554de8a90>"
      ]
     },
     "execution_count": 35,
     "metadata": {},
     "output_type": "execute_result"
    },
    {
     "data": {
      "image/png": "[encoded data removed]",
      "text/plain": [
       "<Figure size 640x480 with 1 Axes>"
      ]
     },
     "metadata": {},
     "output_type": "display_data"
    }
   ],
   "source": [
    "import math as ma\n",
    "import matplotlib.pyplot as plt\n",
    "import numpy as np\n",
    "\n",
    "def func(x):\n",
    "    chisl = ma.sqrt(1 + ma.pow(ma.e, ma.sqrt(x)) + ma.cos(ma.pow(x, 2)))\n",
    "    znam = abs(1 - ma.sin(x)**3)\n",
    "    return chisl / znam + ma.log1p(abs(2 * x))\n",
    "\n",
    "x = list()\n",
    "for i in range(1, 11):\n",
    "    x.append(func(i))\n",
    "y = np.arange(1, 11, 1)\n",
    "plt.plot(y, x)\n",
    "\n",
    "srez = x[0:5]\n",
    "y = np.arange(1, 6, 1)\n",
    "\n",
    "plt.show()\n",
    "plt.grid()\n",
    "\n",
    "plt.scatter(y, srez)"
   ]
  },
  {
   "cell_type": "markdown",
   "id": "c603b2cd",
   "metadata": {},
   "source": [
    "***Ответ:***\n",
    "![](4_3_2(1).png)\n",
    "![](4_3_2(2).png)"
   ]
  },
  {
   "cell_type": "markdown",
   "id": "ec310d04",
   "metadata": {},
   "source": [
    "### 4.3.3. Задание\n",
    "***Задача:*** \\\n",
    "Дана функция |cos(𝑥𝑒(cos(𝑥)+ln(𝑥+1)))| Построить график на\n",
    "интервале (0,10) с шагом 1 с заливкой площади и найти эту площадь\n",
    "под ним. Для вычисления площади воспользуйте функции trapz(),\n",
    "вычисляющей интеграл по правилу трапеции.\n",
    "Для ее корректной работы необходимо подключить следующие\n",
    "библиотеки:\n",
    "```\n",
    "from scipy.integrate import simps\n",
    "from numpy import trapz\n",
    "```\n",
    "***Решение:***"
   ]
  },
  {
   "cell_type": "code",
   "execution_count": 37,
   "id": "1e9f655b",
   "metadata": {},
   "outputs": [
    {
     "name": "stdout",
     "output_type": "stream",
     "text": [
      "5.881616166197112\n"
     ]
    },
    {
     "data": {
      "image/png": "[encoded data removed]",
      "text/plain": [
       "<Figure size 640x480 with 1 Axes>"
      ]
     },
     "metadata": {},
     "output_type": "display_data"
    }
   ],
   "source": [
    "import numpy as np\n",
    "from matplotlib import pyplot as plt\n",
    "from math import *\n",
    "from scipy.integrate import simps\n",
    "from numpy import trapz\n",
    "\n",
    "def func(x):\n",
    "    return abs(cos(x * pow(e, cos(x) + log1p(x + 1))))\n",
    "\n",
    "x = list()\n",
    "for i in range(1, 10):\n",
    "    x.append(func(i))\n",
    "y = np.arange(1, 10)\n",
    "plt.plot(y, x, c = \"yellow\")\n",
    "plt.fill_between(y, x)\n",
    "plt.grid()\n",
    "\n",
    "square = trapz(x)\n",
    "print(square)"
   ]
  },
  {
   "cell_type": "markdown",
   "id": "851777f2",
   "metadata": {},
   "source": [
    "***Ответ:***\n",
    "```\n",
    "5.881616166197112\n",
    "```\n",
    "![](4_3_3.png)"
   ]
  },
  {
   "cell_type": "markdown",
   "id": "69399414",
   "metadata": {},
   "source": [
    "### 4.3.4. Задание\n",
    "***Задача:*** \\\n",
    "Откройте статистические данные по стоимости акций Apple,\n",
    "Microsoft, Google за 12 месяцев 2021 г. Постройте 3 графика на\n",
    "плоскости и оцените их динамику. Подумайте, как можно улучшить\n",
    "читаемость результатов.\n",
    "Для начальных данных допустимо использовать следующий ресурс:\n",
    "https://finance.yahoo.com \\\n",
    "\\\n",
    "***Решение:***"
   ]
  },
  {
   "cell_type": "code",
   "execution_count": 44,
   "id": "96b697e6",
   "metadata": {
    "scrolled": true
   },
   "outputs": [
    {
     "data": {
      "image/png": "[encoded data removed]",
      "text/plain": [
       "<Figure size 640x480 with 1 Axes>"
      ]
     },
     "metadata": {},
     "output_type": "display_data"
    }
   ],
   "source": [
    "import pandas as pd\n",
    "from matplotlib import pyplot as plt\n",
    "\n",
    "apple = pd.read_csv('APPLE.csv')\n",
    "a_date = apple['Date'].tolist()\n",
    "a_date = [i.split('-')[1] for i in a_date]\n",
    "a_price = apple['Close'].tolist()\n",
    "\n",
    "msoft = pd.read_csv('MICROSOFT.csv')\n",
    "m_date = msoft['Date'].tolist()\n",
    "m_date = [i.split('-')[1] for i in m_date]\n",
    "m_price = msoft['Close'].tolist()\n",
    "\n",
    "google = pd.read_csv('GOOGLE.csv')\n",
    "g_date = google['Date'].tolist()\n",
    "g_date = [i.split('-')[1] for i in g_date]\n",
    "g_price = google['Close'].tolist()\n",
    "\n",
    "plt.plot(a_date, a_price, c = 'g')\n",
    "plt.plot(m_date, m_price, c = 'r')\n",
    "plt.plot(g_date, g_price, c = 'b')\n",
    "\n",
    "plt.show()"
   ]
  },
  {
   "cell_type": "markdown",
   "id": "81932569",
   "metadata": {},
   "source": [
    "***Ответ:***\n",
    "![](4_3_4.png)"
   ]
  },
  {
   "cell_type": "markdown",
   "id": "a998536e",
   "metadata": {},
   "source": [
    "### 4.3.5. Задание\n",
    "***Задача:*** \\\n",
    "Создайте простейший калькулятор, включающий основные действия\n",
    "для двух переменных ′ + ′, ′ − ′, ′ ∙ ′, ′ ÷ ′, а также вычисление\n",
    "следующих функций: 𝑒𝑥+𝑦, sin(𝑥 + 𝑦) , cos(𝑥 + 𝑦) , 𝑥𝑦. \\\n",
    "\\\n",
    "***Решение:***"
   ]
  },
  {
   "cell_type": "code",
   "execution_count": 2,
   "id": "61a6666d",
   "metadata": {},
   "outputs": [
    {
     "name": "stdout",
     "output_type": "stream",
     "text": [
      "Выберите операцию:    \n",
      "1.Сложение     \n",
      "2.Вычитание     \n",
      "3.Умножение     \n",
      "4.Деление     \n",
      "5.e^(x + y)     \n",
      "6.sin(x + y)     \n",
      "7.cos(x + y)     \n",
      "8.x^y     \n",
      "9.Выход\n",
      "\n",
      "33\n",
      "Число вышло за диапазон 1 - 10! Введите еще раз: \n",
      "542\n",
      "Число вышло за диапазон 1 - 10! Введите еще раз: \n",
      "-99\n",
      "Число вышло за диапазон 1 - 10! Введите еще раз: \n",
      "-1\n",
      "Число вышло за диапазон 1 - 10! Введите еще раз: \n",
      "2\n",
      "Введите x:\n",
      "7\n",
      "Введите y:\n",
      "8\n",
      "Результат:\n",
      "-1\n",
      "\n",
      "Выберите операцию:    \n",
      "1.Сложение     \n",
      "2.Вычитание     \n",
      "3.Умножение     \n",
      "4.Деление     \n",
      "5.e^(x + y)     \n",
      "6.sin(x + y)     \n",
      "7.cos(x + y)     \n",
      "8.x^y     \n",
      "9.Выход\n",
      "\n",
      "4\n",
      "Введите x:\n",
      "5\n",
      "Введите y:\n",
      "0\n",
      "Результат:\n",
      "Error\n",
      "\n",
      "Выберите операцию:    \n",
      "1.Сложение     \n",
      "2.Вычитание     \n",
      "3.Умножение     \n",
      "4.Деление     \n",
      "5.e^(x + y)     \n",
      "6.sin(x + y)     \n",
      "7.cos(x + y)     \n",
      "8.x^y     \n",
      "9.Выход\n",
      "\n",
      "9\n"
     ]
    }
   ],
   "source": [
    "from math import *\n",
    "\n",
    "def plus(x, y):\n",
    "    return x + y\n",
    "\n",
    "def minus(x, y):\n",
    "    return x - y\n",
    "\n",
    "def umn(x, y):\n",
    "    return x * y\n",
    "\n",
    "def delenie(x, y):\n",
    "    return x / y if y != 0 else \"Error\"\n",
    "\n",
    "def exp_v_stepeni(x, y):\n",
    "    return pow(e, x + y)\n",
    "\n",
    "def sinus(x, y):\n",
    "    return sin(x + y)\n",
    "\n",
    "def cosinus(x, y):\n",
    "    return cos(x + y)\n",
    "\n",
    "def stepen(x, y):\n",
    "    return pow(x, y)\n",
    "\n",
    "while True:\n",
    "    print(\"Выберите операцию:\\\n",
    "    \\n1.Сложение \\\n",
    "    \\n2.Вычитание \\\n",
    "    \\n3.Умножение \\\n",
    "    \\n4.Деление \\\n",
    "    \\n5.e^(x + y) \\\n",
    "    \\n6.sin(x + y) \\\n",
    "    \\n7.cos(x + y) \\\n",
    "    \\n8.x^y \\\n",
    "    \\n9.Выход\\n\")\n",
    "    \n",
    "    v = int(input())\n",
    "\n",
    "    while not (1 <= v <= 9):\n",
    "        print(\"Число вышло за диапазон 1 - 10! Введите еще раз: \")\n",
    "        v = int(input())\n",
    "        \n",
    "    if v == 9:\n",
    "        break\n",
    "    \n",
    "    print(\"Введите x:\")\n",
    "    x = int(input())\n",
    "    print(\"Введите y:\")\n",
    "    y = int(input())\n",
    "    \n",
    "    if v == 1:\n",
    "        print(f'Результат:\\n{plus(x, y)}')\n",
    "    elif v == 2:\n",
    "        print(f'Результат:\\n{minus(x, y)}')\n",
    "    elif v == 3:\n",
    "        print(f'Результат:\\n{umn(x, y)}')\n",
    "    elif v == 4:\n",
    "        print(f'Результат:\\n{delenie(x, y)}')\n",
    "    elif v == 5:\n",
    "        print(f'Результат:\\n{exp_v_stepeni(x, y)}')\n",
    "    elif v == 6:\n",
    "        print(f'Результат:\\n{sinus(x, y)}')\n",
    "    elif v == 7:\n",
    "        print(f'Результат:\\n{cosinus(x, y)}')\n",
    "    elif v == 8:\n",
    "        print(f'Результат:\\n{stepen(x, y)}')\n",
    "    print()"
   ]
  }
 ],
 "metadata": {
  "kernelspec": {
   "display_name": "Python 3 (ipykernel)",
   "language": "python",
   "name": "python3"
  },
  "language_info": {
   "codemirror_mode": {
    "name": "ipython",
    "version": 3
   },
   "file_extension": ".py",
   "mimetype": "text/x-python",
   "name": "python",
   "nbconvert_exporter": "python",
   "pygments_lexer": "ipython3",
   "version": "3.11.4"
  }
 },
 "nbformat": 4,
 "nbformat_minor": 5
}
