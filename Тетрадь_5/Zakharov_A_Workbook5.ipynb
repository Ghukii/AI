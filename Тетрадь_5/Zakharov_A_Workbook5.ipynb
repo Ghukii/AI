{
 "cells": [
  {
   "cell_type": "markdown",
   "id": "a1e75299",
   "metadata": {},
   "source": [
    "### Задание 1.1.1"
   ]
  },
  {
   "cell_type": "code",
   "execution_count": 11,
   "id": "6e1bf295",
   "metadata": {},
   "outputs": [
    {
     "name": "stdout",
     "output_type": "stream",
     "text": [
      "-0.26237485370392877\n",
      "0.15425144988758405\n",
      "9.00365494560708\n",
      "5343237290762.231\n",
      "1.7467135528742547e+19\n",
      "1.0\n",
      "1.5707963267948966\n"
     ]
    }
   ],
   "source": [
    "import math\n",
    "\n",
    "class Tmath:\n",
    "    \n",
    "    def sin(self, n):\n",
    "        return math.sin(n)\n",
    "    \n",
    "    def cos(self, n):\n",
    "        return math.cos(n)\n",
    "    \n",
    "    def tan(self, n):\n",
    "        return math.tan(n)\n",
    "    \n",
    "    def arcsin(self, n):\n",
    "        return math.sinh(n)\n",
    "    \n",
    "    def arccos(self, n):\n",
    "        return math.cosh(n)\n",
    "    \n",
    "    def arctan(self, n):\n",
    "        return math.tanh(n)\n",
    "    \n",
    "    def radians(self, n):\n",
    "        return math.radians(n)\n",
    "    \n",
    "t = Tmath()\n",
    "\n",
    "print(t.sin(50))\n",
    "print(t.cos(30))\n",
    "print(t.tan(80))\n",
    "print(t.arcsin(30))\n",
    "print(t.arccos(45))\n",
    "print(t.arctan(45))\n",
    "print(t.radians(90))"
   ]
  },
  {
   "cell_type": "markdown",
   "id": "38bd12f7",
   "metadata": {},
   "source": [
    "### Задание 1.2.1"
   ]
  },
  {
   "cell_type": "code",
   "execution_count": null,
   "id": "d6041658",
   "metadata": {},
   "outputs": [],
   "source": [
    "class Tree:\n",
    "    def __init__(self, name, left, right):\n",
    "        self.name = name\n",
    "        self.left = left\n",
    "        self.right = right\n",
    "\n",
    "t = Tree('a', Tree('b', 'd', 'e'), Tree('c')\n"
   ]
  }
 ],
 "metadata": {
  "kernelspec": {
   "display_name": "Python 3 (ipykernel)",
   "language": "python",
   "name": "python3"
  },
  "language_info": {
   "codemirror_mode": {
    "name": "ipython",
    "version": 3
   },
   "file_extension": ".py",
   "mimetype": "text/x-python",
   "name": "python",
   "nbconvert_exporter": "python",
   "pygments_lexer": "ipython3",
   "version": "3.11.5"
  }
 },
 "nbformat": 4,
 "nbformat_minor": 5
}
