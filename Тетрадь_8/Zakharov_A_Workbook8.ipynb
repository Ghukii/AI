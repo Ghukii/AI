{
 "cells": [
  {
   "cell_type": "markdown",
   "id": "d63e9f35",
   "metadata": {},
   "source": [
    "## Задание 1.1.1"
   ]
  },
  {
   "cell_type": "code",
   "execution_count": 1,
   "id": "d17fc4f8",
   "metadata": {},
   "outputs": [
    {
     "data": {
      "text/plain": [
       "(10, 2)"
      ]
     },
     "execution_count": 1,
     "metadata": {},
     "output_type": "execute_result"
    }
   ],
   "source": [
    "import matplotlib.pyplot as plt\n",
    "import seaborn as sns; sns.set()\n",
    "import numpy as np\n",
    "from sklearn.cluster import KMeans\n",
    "import sklearn\n",
    "\n",
    "x = np.array([[5, 3],\n",
    "             [10, 15],\n",
    "             [15, 12],\n",
    "             [24, 10],\n",
    "             [30, 45],\n",
    "             [85, 70],\n",
    "             [71, 80],\n",
    "             [60, 78],\n",
    "             [55, 52],\n",
    "             [80, 91]])\n",
    "\n",
    "x.data.shape"
   ]
  },
  {
   "cell_type": "code",
   "execution_count": 2,
   "id": "24d2625d",
   "metadata": {},
   "outputs": [
    {
     "name": "stderr",
     "output_type": "stream",
     "text": [
      "/home/ghukii/anaconda3/lib/python3.11/site-packages/sklearn/cluster/_kmeans.py:1412: FutureWarning: The default value of `n_init` will change from 10 to 'auto' in 1.4. Set the value of `n_init` explicitly to suppress the warning\n",
      "  super()._check_params_vs_input(X, default_n_init=10)\n"
     ]
    },
    {
     "data": {
      "text/plain": [
       "(10, 2)"
      ]
     },
     "execution_count": 2,
     "metadata": {},
     "output_type": "execute_result"
    }
   ],
   "source": [
    "model = KMeans(n_clusters=10, random_state=0)\n",
    "\n",
    "clusters = model.fit_predict(x.data)\n",
    "model.cluster_centers_.shape"
   ]
  },
  {
   "cell_type": "code",
   "execution_count": 3,
   "id": "b89f5c4c",
   "metadata": {},
   "outputs": [
    {
     "data": {
      "text/plain": [
       "\"\\nfig, ax = plt.subplots(2, 5, figsize=(8, 3))\\ncenters = model.cluster_centers_.reshape(10, 1, 1)\\nfor axi, center in zip(ax.flat, centers):\\n    axi.set(xticks=[], yticks=[])\\n    axi.imshow(center, interpolation='nearest', cmap=plt.cm.binary)\\n\""
      ]
     },
     "execution_count": 3,
     "metadata": {},
     "output_type": "execute_result"
    }
   ],
   "source": [
    "'''\n",
    "fig, ax = plt.subplots(2, 5, figsize=(8, 3))\n",
    "centers = model.cluster_centers_.reshape(10, 1, 1)\n",
    "for axi, center in zip(ax.flat, centers):\n",
    "    axi.set(xticks=[], yticks=[])\n",
    "    axi.imshow(center, interpolation='nearest', cmap=plt.cm.binary)\n",
    "'''"
   ]
  },
  {
   "cell_type": "code",
   "execution_count": 4,
   "id": "095c6607",
   "metadata": {},
   "outputs": [
    {
     "data": {
      "text/plain": [
       "array([6, 9, 1, 8, 5, 0, 7, 3, 2, 4], dtype=int32)"
      ]
     },
     "execution_count": 4,
     "metadata": {},
     "output_type": "execute_result"
    }
   ],
   "source": [
    "clusters"
   ]
  },
  {
   "cell_type": "markdown",
   "id": "773471ce",
   "metadata": {},
   "source": [
    "## Задание 1.1.2"
   ]
  },
  {
   "cell_type": "code",
   "execution_count": 5,
   "id": "a0f6cbbb",
   "metadata": {},
   "outputs": [
    {
     "data": {
      "text/html": [
       "<div>\n",
       "<style scoped>\n",
       "    .dataframe tbody tr th:only-of-type {\n",
       "        vertical-align: middle;\n",
       "    }\n",
       "\n",
       "    .dataframe tbody tr th {\n",
       "        vertical-align: top;\n",
       "    }\n",
       "\n",
       "    .dataframe thead th {\n",
       "        text-align: right;\n",
       "    }\n",
       "</style>\n",
       "<table border=\"1\" class=\"dataframe\">\n",
       "  <thead>\n",
       "    <tr style=\"text-align: right;\">\n",
       "      <th></th>\n",
       "      <th>sepal_length</th>\n",
       "      <th>sepal_width</th>\n",
       "      <th>petal_length</th>\n",
       "      <th>petal_width</th>\n",
       "      <th>species</th>\n",
       "    </tr>\n",
       "  </thead>\n",
       "  <tbody>\n",
       "    <tr>\n",
       "      <th>0</th>\n",
       "      <td>5.1</td>\n",
       "      <td>3.5</td>\n",
       "      <td>1.4</td>\n",
       "      <td>0.2</td>\n",
       "      <td>setosa</td>\n",
       "    </tr>\n",
       "    <tr>\n",
       "      <th>1</th>\n",
       "      <td>4.9</td>\n",
       "      <td>3.0</td>\n",
       "      <td>1.4</td>\n",
       "      <td>0.2</td>\n",
       "      <td>setosa</td>\n",
       "    </tr>\n",
       "    <tr>\n",
       "      <th>2</th>\n",
       "      <td>4.7</td>\n",
       "      <td>3.2</td>\n",
       "      <td>1.3</td>\n",
       "      <td>0.2</td>\n",
       "      <td>setosa</td>\n",
       "    </tr>\n",
       "    <tr>\n",
       "      <th>3</th>\n",
       "      <td>4.6</td>\n",
       "      <td>3.1</td>\n",
       "      <td>1.5</td>\n",
       "      <td>0.2</td>\n",
       "      <td>setosa</td>\n",
       "    </tr>\n",
       "    <tr>\n",
       "      <th>4</th>\n",
       "      <td>5.0</td>\n",
       "      <td>3.6</td>\n",
       "      <td>1.4</td>\n",
       "      <td>0.2</td>\n",
       "      <td>setosa</td>\n",
       "    </tr>\n",
       "  </tbody>\n",
       "</table>\n",
       "</div>"
      ],
      "text/plain": [
       "   sepal_length  sepal_width  petal_length  petal_width species\n",
       "0           5.1          3.5           1.4          0.2  setosa\n",
       "1           4.9          3.0           1.4          0.2  setosa\n",
       "2           4.7          3.2           1.3          0.2  setosa\n",
       "3           4.6          3.1           1.5          0.2  setosa\n",
       "4           5.0          3.6           1.4          0.2  setosa"
      ]
     },
     "execution_count": 5,
     "metadata": {},
     "output_type": "execute_result"
    }
   ],
   "source": [
    "df = sns.load_dataset('iris')\n",
    "df.head(5)"
   ]
  },
  {
   "cell_type": "code",
   "execution_count": 25,
   "id": "7e99a73c",
   "metadata": {},
   "outputs": [
    {
     "data": {
      "text/plain": [
       "array([[3.5, 1.4],\n",
       "       [3. , 1.4],\n",
       "       [3.2, 1.3],\n",
       "       [3.1, 1.5],\n",
       "       [3.6, 1.4],\n",
       "       [3.9, 1.7],\n",
       "       [3.4, 1.4],\n",
       "       [3.4, 1.5],\n",
       "       [2.9, 1.4],\n",
       "       [3.1, 1.5],\n",
       "       [3.7, 1.5],\n",
       "       [3.4, 1.6],\n",
       "       [3. , 1.4],\n",
       "       [3. , 1.1],\n",
       "       [4. , 1.2],\n",
       "       [4.4, 1.5],\n",
       "       [3.9, 1.3],\n",
       "       [3.5, 1.4],\n",
       "       [3.8, 1.7],\n",
       "       [3.8, 1.5],\n",
       "       [3.4, 1.7],\n",
       "       [3.7, 1.5],\n",
       "       [3.6, 1. ],\n",
       "       [3.3, 1.7],\n",
       "       [3.4, 1.9],\n",
       "       [3. , 1.6],\n",
       "       [3.4, 1.6],\n",
       "       [3.5, 1.5],\n",
       "       [3.4, 1.4],\n",
       "       [3.2, 1.6],\n",
       "       [3.1, 1.6],\n",
       "       [3.4, 1.5],\n",
       "       [4.1, 1.5],\n",
       "       [4.2, 1.4],\n",
       "       [3.1, 1.5],\n",
       "       [3.2, 1.2],\n",
       "       [3.5, 1.3],\n",
       "       [3.6, 1.4],\n",
       "       [3. , 1.3],\n",
       "       [3.4, 1.5],\n",
       "       [3.5, 1.3],\n",
       "       [2.3, 1.3],\n",
       "       [3.2, 1.3],\n",
       "       [3.5, 1.6],\n",
       "       [3.8, 1.9],\n",
       "       [3. , 1.4],\n",
       "       [3.8, 1.6],\n",
       "       [3.2, 1.4],\n",
       "       [3.7, 1.5],\n",
       "       [3.3, 1.4],\n",
       "       [3.2, 4.7],\n",
       "       [3.2, 4.5],\n",
       "       [3.1, 4.9],\n",
       "       [2.3, 4. ],\n",
       "       [2.8, 4.6],\n",
       "       [2.8, 4.5],\n",
       "       [3.3, 4.7],\n",
       "       [2.4, 3.3],\n",
       "       [2.9, 4.6],\n",
       "       [2.7, 3.9],\n",
       "       [2. , 3.5],\n",
       "       [3. , 4.2],\n",
       "       [2.2, 4. ],\n",
       "       [2.9, 4.7],\n",
       "       [2.9, 3.6],\n",
       "       [3.1, 4.4],\n",
       "       [3. , 4.5],\n",
       "       [2.7, 4.1],\n",
       "       [2.2, 4.5],\n",
       "       [2.5, 3.9],\n",
       "       [3.2, 4.8],\n",
       "       [2.8, 4. ],\n",
       "       [2.5, 4.9],\n",
       "       [2.8, 4.7],\n",
       "       [2.9, 4.3],\n",
       "       [3. , 4.4],\n",
       "       [2.8, 4.8],\n",
       "       [3. , 5. ],\n",
       "       [2.9, 4.5],\n",
       "       [2.6, 3.5],\n",
       "       [2.4, 3.8],\n",
       "       [2.4, 3.7],\n",
       "       [2.7, 3.9],\n",
       "       [2.7, 5.1],\n",
       "       [3. , 4.5],\n",
       "       [3.4, 4.5],\n",
       "       [3.1, 4.7],\n",
       "       [2.3, 4.4],\n",
       "       [3. , 4.1],\n",
       "       [2.5, 4. ],\n",
       "       [2.6, 4.4],\n",
       "       [3. , 4.6],\n",
       "       [2.6, 4. ],\n",
       "       [2.3, 3.3],\n",
       "       [2.7, 4.2],\n",
       "       [3. , 4.2],\n",
       "       [2.9, 4.2],\n",
       "       [2.9, 4.3],\n",
       "       [2.5, 3. ],\n",
       "       [2.8, 4.1],\n",
       "       [3.3, 6. ],\n",
       "       [2.7, 5.1],\n",
       "       [3. , 5.9],\n",
       "       [2.9, 5.6],\n",
       "       [3. , 5.8],\n",
       "       [3. , 6.6],\n",
       "       [2.5, 4.5],\n",
       "       [2.9, 6.3],\n",
       "       [2.5, 5.8],\n",
       "       [3.6, 6.1],\n",
       "       [3.2, 5.1],\n",
       "       [2.7, 5.3],\n",
       "       [3. , 5.5],\n",
       "       [2.5, 5. ],\n",
       "       [2.8, 5.1],\n",
       "       [3.2, 5.3],\n",
       "       [3. , 5.5],\n",
       "       [3.8, 6.7],\n",
       "       [2.6, 6.9],\n",
       "       [2.2, 5. ],\n",
       "       [3.2, 5.7],\n",
       "       [2.8, 4.9],\n",
       "       [2.8, 6.7],\n",
       "       [2.7, 4.9],\n",
       "       [3.3, 5.7],\n",
       "       [3.2, 6. ],\n",
       "       [2.8, 4.8],\n",
       "       [3. , 4.9],\n",
       "       [2.8, 5.6],\n",
       "       [3. , 5.8],\n",
       "       [2.8, 6.1],\n",
       "       [3.8, 6.4],\n",
       "       [2.8, 5.6],\n",
       "       [2.8, 5.1],\n",
       "       [2.6, 5.6],\n",
       "       [3. , 6.1],\n",
       "       [3.4, 5.6],\n",
       "       [3.1, 5.5],\n",
       "       [3. , 4.8],\n",
       "       [3.1, 5.4],\n",
       "       [3.1, 5.6],\n",
       "       [3.1, 5.1],\n",
       "       [2.7, 5.1],\n",
       "       [3.2, 5.9],\n",
       "       [3.3, 5.7],\n",
       "       [3. , 5.2],\n",
       "       [2.5, 5. ],\n",
       "       [3. , 5.2],\n",
       "       [3.4, 5.4],\n",
       "       [3. , 5.1]])"
      ]
     },
     "execution_count": 25,
     "metadata": {},
     "output_type": "execute_result"
    }
   ],
   "source": [
    "data = df.iloc[:, 1:3].values\n",
    "data"
   ]
  },
  {
   "cell_type": "code",
   "execution_count": 27,
   "id": "e58bd52e",
   "metadata": {},
   "outputs": [
    {
     "data": {
      "image/png": "[encoded data removed]",
      "text/plain": [
       "<Figure size 1800x1800 with 1 Axes>"
      ]
     },
     "metadata": {},
     "output_type": "display_data"
    }
   ],
   "source": [
    "import scipy.cluster.hierarchy as shc\n",
    "\n",
    "plt.figure(figsize=(10, 10), dpi=180)\n",
    "plt.title(\"Customer Dendograms\")\n",
    "dend = shc.dendrogram(shc.linkage(data, method='ward'))"
   ]
  },
  {
   "cell_type": "code",
   "execution_count": 28,
   "id": "2ac88367",
   "metadata": {},
   "outputs": [
    {
     "name": "stderr",
     "output_type": "stream",
     "text": [
      "/home/ghukii/anaconda3/lib/python3.11/site-packages/sklearn/cluster/_agglomerative.py:1005: FutureWarning: Attribute `affinity` was deprecated in version 1.2 and will be removed in 1.4. Use `metric` instead\n",
      "  warnings.warn(\n"
     ]
    },
    {
     "data": {
      "text/plain": [
       "array([2, 4, 4, 4, 2, 2, 2, 2, 4, 4, 2, 2, 4, 4, 2, 2, 2, 2, 2, 2, 2, 2,\n",
       "       2, 2, 2, 4, 2, 2, 2, 4, 4, 2, 2, 2, 4, 4, 2, 2, 4, 2, 2, 4, 4, 2,\n",
       "       2, 4, 2, 4, 2, 4, 1, 1, 1, 3, 1, 1, 1, 3, 1, 3, 3, 1, 3, 1, 3, 1,\n",
       "       1, 3, 3, 3, 1, 3, 1, 1, 1, 1, 1, 1, 1, 3, 3, 3, 3, 1, 1, 1, 1, 3,\n",
       "       1, 3, 3, 1, 3, 3, 3, 1, 1, 1, 3, 3, 0, 1, 0, 0, 0, 0, 3, 0, 0, 0,\n",
       "       1, 1, 0, 1, 1, 1, 0, 0, 0, 1, 0, 1, 0, 1, 0, 0, 1, 1, 0, 0, 0, 0,\n",
       "       0, 1, 0, 0, 0, 0, 1, 0, 0, 1, 1, 0, 0, 1, 1, 1, 0, 1])"
      ]
     },
     "execution_count": 28,
     "metadata": {},
     "output_type": "execute_result"
    }
   ],
   "source": [
    "from sklearn.cluster import AgglomerativeClustering\n",
    "\n",
    "cluster = AgglomerativeClustering(n_clusters = 5, affinity='euclidean', linkage='ward')\n",
    "cluster.fit_predict(data)"
   ]
  },
  {
   "cell_type": "code",
   "execution_count": null,
   "id": "012d8cdb",
   "metadata": {},
   "outputs": [],
   "source": [
    "plt.figure(figsize=(10, 7))\n",
    "plt.sx"
   ]
  }
 ],
 "metadata": {
  "kernelspec": {
   "display_name": "Python 3 (ipykernel)",
   "language": "python",
   "name": "python3"
  },
  "language_info": {
   "codemirror_mode": {
    "name": "ipython",
    "version": 3
   },
   "file_extension": ".py",
   "mimetype": "text/x-python",
   "name": "python",
   "nbconvert_exporter": "python",
   "pygments_lexer": "ipython3",
   "version": "3.11.5"
  }
 },
 "nbformat": 4,
 "nbformat_minor": 5
}
